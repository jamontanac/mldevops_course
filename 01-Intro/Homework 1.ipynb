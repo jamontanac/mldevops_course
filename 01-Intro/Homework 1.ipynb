{
 "cells": [
  {
   "cell_type": "code",
   "execution_count": 1,
   "id": "332918ae",
   "metadata": {
    "ExecuteTime": {
     "end_time": "2022-05-23T01:58:23.963125Z",
     "start_time": "2022-05-23T01:58:18.426497Z"
    }
   },
   "outputs": [],
   "source": [
    "import pandas as pd\n",
    "import pickle\n",
    "import seaborn as sns\n",
    "import matplotlib.pyplot as plt\n",
    "from sklearn.feature_extraction import DictVectorizer\n",
    "from sklearn.linear_model import LinearRegression\n",
    "from sklearn.linear_model import Lasso\n",
    "from sklearn.linear_model import Ridge\n",
    "from sklearn.metrics import mean_squared_error"
   ]
  },
  {
   "cell_type": "code",
   "execution_count": 8,
   "id": "83da04fa",
   "metadata": {
    "ExecuteTime": {
     "end_time": "2022-05-23T02:08:45.995199Z",
     "start_time": "2022-05-23T02:08:45.990648Z"
    }
   },
   "outputs": [],
   "source": [
    "URLs={'Feb':'https://nyc-tlc.s3.amazonaws.com/trip+data/fhv_tripdata_2021-02.parquet','Jan':'https://nyc-tlc.s3.amazonaws.com/trip+data/fhv_tripdata_2021-01.parquet'}"
   ]
  },
  {
   "cell_type": "code",
   "execution_count": 9,
   "id": "bdaa84bb",
   "metadata": {
    "ExecuteTime": {
     "end_time": "2022-05-23T02:09:07.133038Z",
     "start_time": "2022-05-23T02:08:46.291917Z"
    }
   },
   "outputs": [],
   "source": [
    "df_jan=pd.read_parquet(URLs['Jan'])\n",
    "df_feb=pd.read_parquet(URLs['Feb'])"
   ]
  },
  {
   "cell_type": "code",
   "execution_count": 14,
   "id": "5bee5948",
   "metadata": {
    "ExecuteTime": {
     "end_time": "2022-05-23T02:12:12.237045Z",
     "start_time": "2022-05-23T02:12:12.228568Z"
    }
   },
   "outputs": [
    {
     "data": {
      "text/plain": [
       "dispatching_base_num              object\n",
       "pickup_datetime           datetime64[ns]\n",
       "dropOff_datetime          datetime64[ns]\n",
       "PUlocationID                     float64\n",
       "DOlocationID                     float64\n",
       "SR_Flag                           object\n",
       "Affiliated_base_number            object\n",
       "dtype: object"
      ]
     },
     "execution_count": 14,
     "metadata": {},
     "output_type": "execute_result"
    }
   ],
   "source": [
    "df_jan.dtypes"
   ]
  },
  {
   "cell_type": "markdown",
   "id": "760bf695",
   "metadata": {},
   "source": [
    "# Q1. Downloading the data"
   ]
  },
  {
   "cell_type": "code",
   "execution_count": 10,
   "id": "f993e0d9",
   "metadata": {
    "ExecuteTime": {
     "end_time": "2022-05-23T02:09:07.152903Z",
     "start_time": "2022-05-23T02:09:07.135624Z"
    }
   },
   "outputs": [
    {
     "data": {
      "text/plain": [
       "(1154112, 7)"
      ]
     },
     "execution_count": 10,
     "metadata": {},
     "output_type": "execute_result"
    }
   ],
   "source": [
    "df_jan.shape"
   ]
  },
  {
   "cell_type": "markdown",
   "id": "963b7b54",
   "metadata": {},
   "source": [
    "\n",
    "We have then that there are 1,154.112 records"
   ]
  },
  {
   "cell_type": "code",
   "execution_count": 16,
   "id": "4d23173a",
   "metadata": {
    "ExecuteTime": {
     "end_time": "2022-05-23T02:13:04.793037Z",
     "start_time": "2022-05-23T02:13:04.733342Z"
    }
   },
   "outputs": [],
   "source": [
    "df_jan[\"duration\"]=df_jan.dropOff_datetime-df_jan.pickup_datetime"
   ]
  },
  {
   "cell_type": "code",
   "execution_count": null,
   "id": "0e5064ba",
   "metadata": {
    "ExecuteTime": {
     "end_time": "2022-05-23T02:14:07.421221Z",
     "start_time": "2022-05-23T02:14:07.413806Z"
    }
   },
   "outputs": [],
   "source": []
  },
  {
   "cell_type": "markdown",
   "id": "07435a95",
   "metadata": {},
   "source": [
    "## Q2. Computing duration"
   ]
  },
  {
   "cell_type": "markdown",
   "id": "e10ffc9c",
   "metadata": {},
   "source": [
    "The average duration of a trip in minutes is therefore:"
   ]
  },
  {
   "cell_type": "code",
   "execution_count": 22,
   "id": "d2eb8a5a",
   "metadata": {
    "ExecuteTime": {
     "end_time": "2022-05-23T02:16:05.882924Z",
     "start_time": "2022-05-23T02:16:05.873091Z"
    }
   },
   "outputs": [
    {
     "data": {
      "text/plain": [
       "19.167224083333334"
      ]
     },
     "execution_count": 22,
     "metadata": {},
     "output_type": "execute_result"
    }
   ],
   "source": [
    "df_jan.duration.mean().total_seconds()/60"
   ]
  },
  {
   "cell_type": "code",
   "execution_count": 24,
   "id": "dd2a03d7",
   "metadata": {
    "ExecuteTime": {
     "end_time": "2022-05-23T02:16:27.623473Z",
     "start_time": "2022-05-23T02:16:17.663640Z"
    }
   },
   "outputs": [],
   "source": [
    "df_jan.duration = df_jan.duration.apply(lambda td: td.total_seconds() / 60)"
   ]
  },
  {
   "cell_type": "markdown",
   "id": "6233dd0f",
   "metadata": {},
   "source": [
    "## Data preparation\n",
    "\n",
    "Check the distribution of the duration variable. There are some outliers. \n",
    "\n",
    "Let's remove them and keep only the records where the duration was between 1 and 60 minutes (inclusive).\n",
    "\n",
    "How many records did you drop? "
   ]
  },
  {
   "cell_type": "code",
   "execution_count": 27,
   "id": "c21e84ba",
   "metadata": {
    "ExecuteTime": {
     "end_time": "2022-05-23T02:23:39.796766Z",
     "start_time": "2022-05-23T02:23:37.337585Z"
    }
   },
   "outputs": [
    {
     "name": "stderr",
     "output_type": "stream",
     "text": [
      "/Users/jamontanac/anaconda3/envs/mlops/lib/python3.9/site-packages/seaborn/distributions.py:2619: FutureWarning: `distplot` is a deprecated function and will be removed in a future version. Please adapt your code to use either `displot` (a figure-level function with similar flexibility) or `histplot` (an axes-level function for histograms).\n",
      "  warnings.warn(msg, FutureWarning)\n"
     ]
    },
    {
     "data": {
      "text/plain": [
       "<AxesSubplot:xlabel='duration', ylabel='Density'>"
      ]
     },
     "execution_count": 27,
     "metadata": {},
     "output_type": "execute_result"
    },
    {
     "data": {
      "image/png": "[encoded data removed]",
      "text/plain": [
       "<Figure size 432x288 with 1 Axes>"
      ]
     },
     "metadata": {
      "needs_background": "light"
     },
     "output_type": "display_data"
    }
   ],
   "source": [
    "sns.distplot(df_jan.duration)"
   ]
  },
  {
   "cell_type": "code",
   "execution_count": 28,
   "id": "e41eab01",
   "metadata": {
    "ExecuteTime": {
     "end_time": "2022-05-23T02:23:55.343694Z",
     "start_time": "2022-05-23T02:23:55.289088Z"
    }
   },
   "outputs": [
    {
     "data": {
      "text/plain": [
       "count    1.154112e+06\n",
       "mean     1.916722e+01\n",
       "std      3.986922e+02\n",
       "min      1.666667e-02\n",
       "25%      7.766667e+00\n",
       "50%      1.340000e+01\n",
       "75%      2.228333e+01\n",
       "max      4.233710e+05\n",
       "Name: duration, dtype: float64"
      ]
     },
     "execution_count": 28,
     "metadata": {},
     "output_type": "execute_result"
    }
   ],
   "source": [
    "df_jan.duration.describe()"
   ]
  },
  {
   "cell_type": "code",
   "execution_count": 36,
   "id": "ecb78a1e",
   "metadata": {
    "ExecuteTime": {
     "end_time": "2022-05-23T02:26:24.154775Z",
     "start_time": "2022-05-23T02:26:24.088956Z"
    }
   },
   "outputs": [
    {
     "data": {
      "text/plain": [
       "44286"
      ]
     },
     "execution_count": 36,
     "metadata": {},
     "output_type": "execute_result"
    }
   ],
   "source": [
    "df_jan.shape[0]-df_jan[(df_jan.duration >= 1) & (df_jan.duration <= 60)].shape[0]"
   ]
  },
  {
   "cell_type": "markdown",
   "id": "0efb0dbe",
   "metadata": {},
   "source": [
    "We are droping 44.286 possible outliers"
   ]
  },
  {
   "cell_type": "code",
   "execution_count": 37,
   "id": "04d3965b",
   "metadata": {
    "ExecuteTime": {
     "end_time": "2022-05-23T02:33:49.283142Z",
     "start_time": "2022-05-23T02:33:49.035865Z"
    }
   },
   "outputs": [],
   "source": [
    "df_jan=df_jan[(df_jan.duration >= 1) & (df_jan.duration <= 60)]"
   ]
  },
  {
   "cell_type": "code",
   "execution_count": 38,
   "id": "efb2843d",
   "metadata": {
    "ExecuteTime": {
     "end_time": "2022-05-23T02:34:07.015104Z",
     "start_time": "2022-05-23T02:34:03.017505Z"
    }
   },
   "outputs": [
    {
     "name": "stderr",
     "output_type": "stream",
     "text": [
      "/Users/jamontanac/anaconda3/envs/mlops/lib/python3.9/site-packages/seaborn/distributions.py:2619: FutureWarning: `distplot` is a deprecated function and will be removed in a future version. Please adapt your code to use either `displot` (a figure-level function with similar flexibility) or `histplot` (an axes-level function for histograms).\n",
      "  warnings.warn(msg, FutureWarning)\n"
     ]
    },
    {
     "data": {
      "text/plain": [
       "<AxesSubplot:xlabel='duration', ylabel='Density'>"
      ]
     },
     "execution_count": 38,
     "metadata": {},
     "output_type": "execute_result"
    },
    {
     "data": {
      "image/png": "[encoded data removed]",
      "text/plain": [
       "<Figure size 432x288 with 1 Axes>"
      ]
     },
     "metadata": {
      "needs_background": "light"
     },
     "output_type": "display_data"
    }
   ],
   "source": [
    "sns.distplot(df_jan.duration)"
   ]
  },
  {
   "cell_type": "markdown",
   "id": "d18cd176",
   "metadata": {},
   "source": [
    "## Q3. Missing values\n",
    "\n",
    "The features we'll use for our model are the pickup and dropoff location IDs. \n",
    "\n",
    "But they have a lot of missing values there. Let's replace them with \"-1\".\n",
    "\n",
    "What's the fractions of missing values for the pickup location ID? I.e. fraction of \"-1\"s after you filled the NAs."
   ]
  },
  {
   "cell_type": "code",
   "execution_count": 49,
   "id": "05a0d4fa",
   "metadata": {
    "ExecuteTime": {
     "end_time": "2022-05-23T02:39:52.109290Z",
     "start_time": "2022-05-23T02:39:52.076473Z"
    }
   },
   "outputs": [
    {
     "data": {
      "text/plain": [
       "-1.0      83.527328\n",
       " 221.0     0.750568\n",
       " 206.0     0.612438\n",
       " 129.0     0.484671\n",
       " 115.0     0.367805\n",
       "Name: PUlocationID, dtype: float64"
      ]
     },
     "execution_count": 49,
     "metadata": {},
     "output_type": "execute_result"
    }
   ],
   "source": [
    "fraction=df_jan['PUlocationID'].fillna(-1).value_counts()/len(df_jan)*100\n",
    "fraction.sort_values(ascending =False).head()"
   ]
  },
  {
   "cell_type": "markdown",
   "id": "205ffdeb",
   "metadata": {},
   "source": [
    "Therefore we have that the 83.5% in the column of pickups are missing values"
   ]
  },
  {
   "cell_type": "code",
   "execution_count": 50,
   "id": "3bfe6cf0",
   "metadata": {
    "ExecuteTime": {
     "end_time": "2022-05-23T02:42:18.433525Z",
     "start_time": "2022-05-23T02:42:18.360135Z"
    }
   },
   "outputs": [
    {
     "name": "stderr",
     "output_type": "stream",
     "text": [
      "/var/folders/x4/drtj4z6n66x0nmlgb4gsqrlh0000gn/T/ipykernel_4894/2278361396.py:1: SettingWithCopyWarning: \n",
      "A value is trying to be set on a copy of a slice from a DataFrame\n",
      "\n",
      "See the caveats in the documentation: https://pandas.pydata.org/pandas-docs/stable/user_guide/indexing.html#returning-a-view-versus-a-copy\n",
      "  df_jan['PUlocationID'].fillna(-1,inplace=True)\n",
      "/var/folders/x4/drtj4z6n66x0nmlgb4gsqrlh0000gn/T/ipykernel_4894/2278361396.py:2: SettingWithCopyWarning: \n",
      "A value is trying to be set on a copy of a slice from a DataFrame\n",
      "\n",
      "See the caveats in the documentation: https://pandas.pydata.org/pandas-docs/stable/user_guide/indexing.html#returning-a-view-versus-a-copy\n",
      "  df_jan['DOlocationID'].fillna(-1,inplace=True)\n"
     ]
    }
   ],
   "source": [
    "df_jan['PUlocationID'].fillna(-1,inplace=True)\n",
    "df_jan['DOlocationID'].fillna(-1,inplace=True)"
   ]
  },
  {
   "cell_type": "markdown",
   "id": "058023c4",
   "metadata": {},
   "source": [
    "## One-hot encoding\n",
    "\n",
    "Let's apply one-hot encoding to the pickup and dropoff location IDs. We'll use only these two features for our model. \n",
    "\n",
    "* Turn the dataframe into a list of dictionaries\n",
    "* Fit a dictionary vectorizer \n",
    "* Get a feature matrix from it\n",
    "\n",
    "What's the dimensionality of this matrix? (The number of columns)."
   ]
  },
  {
   "cell_type": "code",
   "execution_count": 52,
   "id": "c63b60f4",
   "metadata": {
    "ExecuteTime": {
     "end_time": "2022-05-23T03:21:22.405946Z",
     "start_time": "2022-05-23T03:21:16.516955Z"
    }
   },
   "outputs": [
    {
     "name": "stderr",
     "output_type": "stream",
     "text": [
      "/var/folders/x4/drtj4z6n66x0nmlgb4gsqrlh0000gn/T/ipykernel_4894/640979257.py:3: SettingWithCopyWarning: \n",
      "A value is trying to be set on a copy of a slice from a DataFrame.\n",
      "Try using .loc[row_indexer,col_indexer] = value instead\n",
      "\n",
      "See the caveats in the documentation: https://pandas.pydata.org/pandas-docs/stable/user_guide/indexing.html#returning-a-view-versus-a-copy\n",
      "  df_jan[categorical] = df_jan[categorical].astype(str).copy()\n"
     ]
    }
   ],
   "source": [
    "categorical = ['PUlocationID', 'DOlocationID']\n",
    "\n",
    "df_jan[categorical] = df_jan[categorical].astype(str)\n",
    "\n",
    "train_dicts=df_jan[categorical].to_dict(orient='records')\n",
    "dv = DictVectorizer()\n",
    "X_train = dv.fit_transform(train_dicts)"
   ]
  },
  {
   "cell_type": "code",
   "execution_count": 54,
   "id": "9d9a3b2f",
   "metadata": {
    "ExecuteTime": {
     "end_time": "2022-05-23T03:21:34.494199Z",
     "start_time": "2022-05-23T03:21:34.477862Z"
    }
   },
   "outputs": [
    {
     "data": {
      "text/plain": [
       "<1109826x525 sparse matrix of type '<class 'numpy.float64'>'\n",
       "\twith 2219652 stored elements in Compressed Sparse Row format>"
      ]
     },
     "execution_count": 54,
     "metadata": {},
     "output_type": "execute_result"
    }
   ],
   "source": [
    "X_train"
   ]
  },
  {
   "cell_type": "markdown",
   "id": "d6a3499b",
   "metadata": {},
   "source": [
    "Then we have 525 columns for our feature matrix"
   ]
  },
  {
   "cell_type": "markdown",
   "id": "412c53ba",
   "metadata": {},
   "source": [
    "## Q5. Training a model\n",
    "\n",
    "Now let's use the feature matrix from the previous step to train a model. \n",
    "\n",
    "* Train a plain linear regression model with default parameters \n",
    "* Calculate the RMSE of the model on the training data\n",
    "\n",
    "What's the RMSE on train?"
   ]
  },
  {
   "cell_type": "code",
   "execution_count": 57,
   "id": "6728c923",
   "metadata": {
    "ExecuteTime": {
     "end_time": "2022-05-23T03:25:55.685320Z",
     "start_time": "2022-05-23T03:25:42.731528Z"
    }
   },
   "outputs": [
    {
     "data": {
      "text/plain": [
       "10.528519107211343"
      ]
     },
     "execution_count": 57,
     "metadata": {},
     "output_type": "execute_result"
    }
   ],
   "source": [
    "target = 'duration'\n",
    "y_train = df_jan[target].values\n",
    "\n",
    "lr = LinearRegression()\n",
    "lr.fit(X_train, y_train)\n",
    "\n",
    "y_pred = lr.predict(X_train)\n",
    "\n",
    "mean_squared_error(y_train, y_pred, squared=False)"
   ]
  },
  {
   "cell_type": "markdown",
   "id": "e32b4ede",
   "metadata": {},
   "source": [
    "The RMSE of our model is then 10.52"
   ]
  },
  {
   "cell_type": "code",
   "execution_count": 61,
   "id": "90c47a3c",
   "metadata": {
    "ExecuteTime": {
     "end_time": "2022-05-23T03:35:52.792207Z",
     "start_time": "2022-05-23T03:35:45.628956Z"
    }
   },
   "outputs": [
    {
     "name": "stderr",
     "output_type": "stream",
     "text": [
      "/Users/jamontanac/anaconda3/envs/mlops/lib/python3.9/site-packages/seaborn/distributions.py:2619: FutureWarning: `distplot` is a deprecated function and will be removed in a future version. Please adapt your code to use either `displot` (a figure-level function with similar flexibility) or `histplot` (an axes-level function for histograms).\n",
      "  warnings.warn(msg, FutureWarning)\n",
      "/Users/jamontanac/anaconda3/envs/mlops/lib/python3.9/site-packages/seaborn/distributions.py:2619: FutureWarning: `distplot` is a deprecated function and will be removed in a future version. Please adapt your code to use either `displot` (a figure-level function with similar flexibility) or `histplot` (an axes-level function for histograms).\n",
      "  warnings.warn(msg, FutureWarning)\n"
     ]
    },
    {
     "data": {
      "text/plain": [
       "<matplotlib.legend.Legend at 0x7fa6eabe3190>"
      ]
     },
     "execution_count": 61,
     "metadata": {},
     "output_type": "execute_result"
    },
    {
     "data": {
      "image/png": "[encoded data removed]",
      "text/plain": [
       "<Figure size 432x288 with 1 Axes>"
      ]
     },
     "metadata": {
      "needs_background": "light"
     },
     "output_type": "display_data"
    }
   ],
   "source": [
    "sns.distplot(y_pred, label='prediction')\n",
    "sns.distplot(y_train, label='actual')\n",
    "\n",
    "plt.legend()"
   ]
  },
  {
   "cell_type": "markdown",
   "id": "3478929d",
   "metadata": {},
   "source": [
    "## Q6. Evaluating the model\n",
    "\n",
    "Now let's apply this model to the validation dataset (Feb 2021). \n",
    "\n",
    "What's the RMSE on validation?"
   ]
  },
  {
   "cell_type": "code",
   "execution_count": 64,
   "id": "0be331d5",
   "metadata": {
    "ExecuteTime": {
     "end_time": "2022-05-23T03:38:51.024203Z",
     "start_time": "2022-05-23T03:38:37.110911Z"
    }
   },
   "outputs": [],
   "source": [
    "df_feb[\"duration\"]=df_feb.dropOff_datetime-df_feb.pickup_datetime\n",
    "df_feb.duration = df_feb.duration.apply(lambda td: td.total_seconds() / 60)\n",
    "df_feb=df_feb[(df_feb.duration >= 1) & (df_feb.duration <= 60)]\n",
    "df_feb['PUlocationID'].fillna(-1,inplace=True)\n",
    "df_feb['DOlocationID'].fillna(-1,inplace=True)\n",
    "df_feb[categorical] = df_feb[categorical].astype(str)\n",
    "val_dicts=df_feb[categorical].to_dict(orient='records')\n",
    "X_val=dv.transform(val_dicts)\n",
    "y_val=df_feb[target].values"
   ]
  },
  {
   "cell_type": "code",
   "execution_count": 65,
   "id": "c69b27a5",
   "metadata": {
    "ExecuteTime": {
     "end_time": "2022-05-23T03:38:51.076319Z",
     "start_time": "2022-05-23T03:38:51.029011Z"
    }
   },
   "outputs": [
    {
     "data": {
      "text/plain": [
       "11.014283193305987"
      ]
     },
     "execution_count": 65,
     "metadata": {},
     "output_type": "execute_result"
    }
   ],
   "source": [
    "y_val_pred=lr.predict(X_val)\n",
    "mean_squared_error(y_val,y_val_pred,squared=False)"
   ]
  },
  {
   "cell_type": "code",
   "execution_count": 66,
   "id": "8f83c119",
   "metadata": {
    "ExecuteTime": {
     "end_time": "2022-05-23T03:38:58.328167Z",
     "start_time": "2022-05-23T03:38:51.085958Z"
    }
   },
   "outputs": [
    {
     "name": "stderr",
     "output_type": "stream",
     "text": [
      "/Users/jamontanac/anaconda3/envs/mlops/lib/python3.9/site-packages/seaborn/distributions.py:2619: FutureWarning: `distplot` is a deprecated function and will be removed in a future version. Please adapt your code to use either `displot` (a figure-level function with similar flexibility) or `histplot` (an axes-level function for histograms).\n",
      "  warnings.warn(msg, FutureWarning)\n",
      "/Users/jamontanac/anaconda3/envs/mlops/lib/python3.9/site-packages/seaborn/distributions.py:2619: FutureWarning: `distplot` is a deprecated function and will be removed in a future version. Please adapt your code to use either `displot` (a figure-level function with similar flexibility) or `histplot` (an axes-level function for histograms).\n",
      "  warnings.warn(msg, FutureWarning)\n"
     ]
    },
    {
     "data": {
      "text/plain": [
       "<matplotlib.legend.Legend at 0x7fa6f77836d0>"
      ]
     },
     "execution_count": 66,
     "metadata": {},
     "output_type": "execute_result"
    },
    {
     "data": {
      "image/png": "[encoded data removed]",
      "text/plain": [
       "<Figure size 432x288 with 1 Axes>"
      ]
     },
     "metadata": {
      "needs_background": "light"
     },
     "output_type": "display_data"
    }
   ],
   "source": [
    "sns.distplot(y_val_pred, label='prediction on validation')\n",
    "sns.distplot(y_val, label='actual on validation')\n",
    "\n",
    "plt.legend()"
   ]
  },
  {
   "cell_type": "code",
   "execution_count": null,
   "id": "11347861",
   "metadata": {},
   "outputs": [],
   "source": []
  }
 ],
 "metadata": {
  "kernelspec": {
   "display_name": "Python 3 (ipykernel)",
   "language": "python",
   "name": "python3"
  },
  "language_info": {
   "codemirror_mode": {
    "name": "ipython",
    "version": 3
   },
   "file_extension": ".py",
   "mimetype": "text/x-python",
   "name": "python",
   "nbconvert_exporter": "python",
   "pygments_lexer": "ipython3",
   "version": "3.9.7"
  }
 },
 "nbformat": 4,
 "nbformat_minor": 5
}
